{
 "cells": [
  {
   "cell_type": "code",
   "execution_count": 27,
   "metadata": {},
   "outputs": [],
   "source": [
    "import pandas as pd\n",
    "import numpy as np\n",
    "import matplotlib.pyplot as plt\n",
    "import seaborn as sns"
   ]
  },
  {
   "cell_type": "code",
   "execution_count": null,
   "metadata": {},
   "outputs": [],
   "source": [
    "path2SP = \"/Users/carlostoruno/OneDrive - World Justice Project/EU Subnational/EU-S Data\"\n",
    "survey_groups = [\"AA\", \"AB\", \"BA\", \"BB\"]\n",
    "\n",
    "eugpp = pd.read_stata(\n",
    "    f\"{path2SP}/eu-gpp/1. Data/3. Merge/EU_GPP_2024.dta\", \n",
    "    convert_categoricals = False\n",
    ").set_index(\"country_year_id\")\n",
    "\n",
    "kmeans_results =[\n",
    "    pd.read_csv(f\"../../../data/kmeans_results/{g}_kmeans_results.csv\")\n",
    "    for g in survey_groups\n",
    "]\n",
    "kmeans_data = pd.concat(kmeans_results).set_index(\"country_year_id\")\n",
    "\n",
    "outline = (\n",
    "    pd.read_excel(\"../../../metadata/theoretical_outline.xlsx\")\n",
    ")\n",
    "outline_vars = list(set(outline.target_var))\n",
    "\n",
    "master_data = (\n",
    "    kmeans_data\n",
    "    .merge(\n",
    "        eugpp.loc[:, outline_vars],\n",
    "        right_index=True,\n",
    "        left_index=True,\n",
    "        how=\"left\"\n",
    "    )\n",
    ")\n",
    "master_data[outline_vars] = master_data[outline_vars].replace([98,99], np.nan)"
   ]
  }
 ],
 "metadata": {
  "kernelspec": {
   "display_name": ".venv",
   "language": "python",
   "name": "python3"
  },
  "language_info": {
   "codemirror_mode": {
    "name": "ipython",
    "version": 3
   },
   "file_extension": ".py",
   "mimetype": "text/x-python",
   "name": "python",
   "nbconvert_exporter": "python",
   "pygments_lexer": "ipython3",
   "version": "3.13.2"
  }
 },
 "nbformat": 4,
 "nbformat_minor": 2
}
